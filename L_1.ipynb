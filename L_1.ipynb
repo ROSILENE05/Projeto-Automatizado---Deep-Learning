{
  "cells": [
    {
      "cell_type": "markdown",
      "id": "bae53a09-c04c-4916-a146-00e0bb188954",
      "metadata": {
        "id": "bae53a09-c04c-4916-a146-00e0bb188954"
      },
      "source": [
        "# L1: Projeto Automatizado: Planejamento, Estimativa e Alocação"
      ]
    },
    {
      "cell_type": "markdown",
      "id": "2a4058e8-a52c-4365-ac27-da08b67d7fb8",
      "metadata": {
        "id": "2a4058e8-a52c-4365-ac27-da08b67d7fb8"
      },
      "source": [
        "<p style=\"background-color:#fff6e4; padding:15px; border-width:3px; border-color:#f5ecda; border-style:solid; border-radius:6px\"> ⏳ <b>Note <code>(Kernel Starting)</code>:</b> Nota (Kernel Starting): Este notebook leva cerca de 30 segundos para ficar pronto para uso. Você pode iniciar e assistir ao vídeo enquanto espera.</p>"
      ]
    },
    {
      "cell_type": "markdown",
      "id": "30ada5b1-06ec-41e8-8f60-5e0e0d389ffb",
      "metadata": {
        "id": "30ada5b1-06ec-41e8-8f60-5e0e0d389ffb"
      },
      "source": [
        "## Importações Iniciais"
      ]
    },
    {
      "cell_type": "code",
      "execution_count": null,
      "id": "4193708e-9802-4161-844a-735f6361e24d",
      "metadata": {
        "height": 200,
        "collapsed": true,
        "id": "4193708e-9802-4161-844a-735f6361e24d"
      },
      "outputs": [],
      "source": [
        "# Controle de alerta\n",
        "import warnings\n",
        "warnings.filterwarnings('ignore')\n",
        "\n",
        "# Carregar variáveis ​​de ambiente\n",
        "from helper import load_env\n",
        "load_env()\n",
        "\n",
        "import os\n",
        "import yaml\n",
        "from crewai import Agent, Task, Crew\n",
        "\n",
        "#Agent - Agente\n",
        "#Task - Tarefa\n",
        "#Crew - Tripulação\n",
        "\n",
        "#NOTA: Se sua importação estiver falhando devido a um pacote ausente, você pode\n",
        "#instalar dependências manualmente usando !pip ou !apt.\n",
        "\n",
        "#Para ver exemplos de instalação de algumas dependências comuns, clique no\n",
        "#botão \"Abrir Exemplos\" abaixo."
      ]
    },
    {
      "cell_type": "markdown",
      "id": "66752d49-82ae-4b58-b76b-fc57c6b5f23e",
      "metadata": {
        "id": "66752d49-82ae-4b58-b76b-fc57c6b5f23e"
      },
      "source": [
        "<p style=\"background-color:#fff6ff; padding:15px; border-width:3px; border-color:#efe6ef; border-style:solid; border-radius:6px\"> 💻 &nbsp; <b>Access <code>requirements.txt</code> and <code>helper.py</code> files:</b> 1) click on the <em>\"File\"</em> option on the top menu of the notebook and then 2) click on <em>\"Open\"</em>. For more help, please see the <em>\"Appendix - Tips and Help\"</em> Lesson.</p>"
      ]
    },
    {
      "cell_type": "markdown",
      "id": "b930b575-a2d5-467b-878f-de78e10b6ba5",
      "metadata": {
        "id": "b930b575-a2d5-467b-878f-de78e10b6ba5"
      },
      "source": [
        "## Definir modelo OpenAI"
      ]
    },
    {
      "cell_type": "code",
      "execution_count": null,
      "id": "91cb8100-3058-4cdc-969b-c64a46a408e4",
      "metadata": {
        "height": 30,
        "id": "91cb8100-3058-4cdc-969b-c64a46a408e4"
      },
      "outputs": [],
      "source": [
        "os.environ['OPENAI_MODEL_NAME'] = 'gpt-4o-mini'"
      ]
    },
    {
      "cell_type": "markdown",
      "id": "96b83836-9ccb-47d7-a97b-9a68aebfaa42",
      "metadata": {
        "id": "96b83836-9ccb-47d7-a97b-9a68aebfaa42"
      },
      "source": [
        "## Carregando arquivos YAML de tarefas e agentes"
      ]
    },
    {
      "cell_type": "code",
      "execution_count": null,
      "id": "5a4e362d-c010-43dd-88c4-e7db87834fb4",
      "metadata": {
        "height": 285,
        "id": "5a4e362d-c010-43dd-88c4-e7db87834fb4"
      },
      "outputs": [],
      "source": [
        "# Definir caminhos de arquivo para configurações YAML\n",
        "files = {\n",
        "    'agents': 'config/agents.yaml',\n",
        "    'tasks': 'config/tasks.yaml'\n",
        "}\n",
        "\n",
        "# Carregar configurações de arquivos YAML\n",
        "configs = {}\n",
        "for config_type, file_path in files.items():\n",
        "    with open(file_path, 'r') as file:\n",
        "        configs[config_type] = yaml.safe_load(file)\n",
        "\n",
        "# Atribuir configurações carregadas a variáveis ​​específicas\n",
        "agents_config = configs['agents'] #agentes\n",
        "tasks_config = configs['tasks'] #tarefas"
      ]
    },
    {
      "cell_type": "markdown",
      "id": "c5f50c89-a326-4e4c-93a1-79be3fcda14b",
      "metadata": {
        "id": "c5f50c89-a326-4e4c-93a1-79be3fcda14b"
      },
      "source": [
        "### Crie modelos pydantic para saída estruturada"
      ]
    },
    {
      "cell_type": "code",
      "execution_count": null,
      "id": "0e8626d2-e48a-4b7e-a061-a8eb492c9036",
      "metadata": {
        "height": 285,
        "id": "0e8626d2-e48a-4b7e-a061-a8eb492c9036"
      },
      "outputs": [],
      "source": [
        "from typing import List\n",
        "from pydantic import BaseModel, Field\n",
        "\n",
        "class TaskEstimate(BaseModel):\n",
        "    task_name: str = Field(..., description=\"Name of the task\")\n",
        "    estimated_time_hours: float = Field(..., description=\"Estimated time to complete the task in hours\")\n",
        "    required_resources: List[str] = Field(..., description=\"List of resources required to complete the task\")\n",
        "\n",
        "class Milestone(BaseModel):\n",
        "    milestone_name: str = Field(..., description=\"Name of the milestone\")\n",
        "    tasks: List[str] = Field(..., description=\"List of task IDs associated with this milestone\")\n",
        "\n",
        "class ProjectPlan(BaseModel):\n",
        "    tasks: List[TaskEstimate] = Field(..., description=\"List of tasks with their estimates\")\n",
        "    milestones: List[Milestone] = Field(..., description=\"List of project milestones\")"
      ]
    },
    {
      "cell_type": "markdown",
      "id": "92d6524c-48e7-460e-8345-3b7a872b714a",
      "metadata": {
        "id": "92d6524c-48e7-460e-8345-3b7a872b714a"
      },
      "source": [
        "## Crie equipes, agentes e tarefas"
      ]
    },
    {
      "cell_type": "code",
      "execution_count": null,
      "id": "a655927f-c10c-4c06-852a-d9c96fdfbfb9",
      "metadata": {
        "height": 778,
        "id": "a655927f-c10c-4c06-852a-d9c96fdfbfb9"
      },
      "outputs": [],
      "source": [
        "# Criando agentes\n",
        "project_planning_agent = Agent(\n",
        "  config=agents_config['project_planning_agent']\n",
        ")\n",
        "\n",
        "estimation_agent = Agent(\n",
        "  config=agents_config['estimation_agent']\n",
        ")\n",
        "\n",
        "resource_allocation_agent = Agent(\n",
        "  config=agents_config['resource_allocation_agent']\n",
        ")\n",
        "\n",
        "# Criando tarefas\n",
        "task_breakdown = Task(\n",
        "  config=tasks_config['task_breakdown'],\n",
        "  agent=project_planning_agent\n",
        ")\n",
        "\n",
        "time_resource_estimation = Task(\n",
        "  config=tasks_config['time_resource_estimation'],\n",
        "  agent=estimation_agent\n",
        ")\n",
        "\n",
        "resource_allocation = Task(\n",
        "  config=tasks_config['resource_allocation'],\n",
        "  agent=resource_allocation_agent,\n",
        "  output_pydantic=ProjectPlan # Esta é a saída estruturada que queremos\n",
        ")\n",
        "\n",
        "# Criando Tripulação\n",
        "crew = Crew(\n",
        "  agents=[\n",
        "    project_planning_agent,\n",
        "    estimation_agent,\n",
        "    resource_allocation_agent\n",
        "  ],\n",
        "  tasks=[\n",
        "    task_breakdown,\n",
        "    time_resource_estimation,\n",
        "    resource_allocation\n",
        "  ],\n",
        "  verbose=True\n",
        ")"
      ]
    },
    {
      "cell_type": "markdown",
      "id": "51b901cf-3630-4662-81a7-762da6773d3b",
      "metadata": {
        "id": "51b901cf-3630-4662-81a7-762da6773d3b"
      },
      "source": [
        "## Entradas da tripulação"
      ]
    },
    {
      "cell_type": "code",
      "execution_count": null,
      "id": "9e861574-0f9b-4f2c-b2d1-a230fc3a53a3",
      "metadata": {
        "height": 710,
        "id": "9e861574-0f9b-4f2c-b2d1-a230fc3a53a3"
      },
      "outputs": [],
      "source": [
        "from IPython.display import display, Markdown\n",
        "\n",
        "project = 'Website'\n",
        "industry = 'Technology'\n",
        "project_objectives = 'Create a website for a small business'\n",
        "team_members = \"\"\"\n",
        "- John Doe (Project Manager)\n",
        "- Jane Doe (Software Engineer)\n",
        "- Bob Smith (Designer)\n",
        "- Alice Johnson (QA Engineer)\n",
        "- Tom Brown (QA Engineer)\n",
        "\"\"\"\n",
        "project_requirements = \"\"\"\n",
        "- Create a responsive design that works well on desktop and mobile devices\n",
        "- Implement a modern, visually appealing user interface with a clean look\n",
        "- Develop a user-friendly navigation system with intuitive menu structure\n",
        "- Include an \"About Us\" page highlighting the company's history and values\n",
        "- Design a \"Services\" page showcasing the business's offerings with descriptions\n",
        "- Create a \"Contact Us\" page with a form and integrated map for communication\n",
        "- Implement a blog section for sharing industry news and company updates\n",
        "- Ensure fast loading times and optimize for search engines (SEO)\n",
        "- Integrate social media links and sharing capabilities\n",
        "- Include a testimonials section to showcase customer feedback and build trust\n",
        "\"\"\"\n",
        "\n",
        "# Formate o dicionário como Markdown para uma melhor exibição no Jupyter Lab\n",
        "formatted_output = f\"\"\"\n",
        "**Project Type:** {project}\n",
        "\n",
        "**Project Objectives:** {project_objectives}\n",
        "\n",
        "**Industry:** {industry}\n",
        "\n",
        "**Team Members:**\n",
        "{team_members}\n",
        "**Project Requirements:**\n",
        "{project_requirements}\n",
        "\"\"\"\n",
        "# Exibir a saída formatada como Markdown\n",
        "display(Markdown(formatted_output))"
      ]
    },
    {
      "cell_type": "markdown",
      "id": "15198e13-e9ec-44d8-b15e-c97b7b7320bb",
      "metadata": {
        "id": "15198e13-e9ec-44d8-b15e-c97b7b7320bb"
      },
      "source": [
        "## Dando início à tripulação"
      ]
    },
    {
      "cell_type": "code",
      "execution_count": null,
      "id": "fa40b53e-0a49-4198-a263-c79a6a3af603",
      "metadata": {
        "height": 234,
        "id": "fa40b53e-0a49-4198-a263-c79a6a3af603"
      },
      "outputs": [],
      "source": [
        "# O dicionário Python fornecido\n",
        "inputs = {\n",
        "  'project_type': project,\n",
        "  'project_objectives': project_objectives,\n",
        "  'industry': industry,\n",
        "  'team_members': team_members,\n",
        "  'project_requirements': project_requirements\n",
        "}\n",
        "\n",
        "# Comande a tripulação\n",
        "result = crew.kickoff(\n",
        "  inputs=inputs\n",
        ")"
      ]
    },
    {
      "cell_type": "markdown",
      "id": "7879258f-52df-4503-b08e-acd516d0a946",
      "metadata": {
        "id": "7879258f-52df-4503-b08e-acd516d0a946"
      },
      "source": [
        "## Métricas de uso e custos"
      ]
    },
    {
      "cell_type": "markdown",
      "id": "d94dad33-91c9-4aac-8e16-24117dbbef46",
      "metadata": {
        "id": "d94dad33-91c9-4aac-8e16-24117dbbef46"
      },
      "source": [
        "Vamos ver quanto custaria cada vez se essa equipe trabalhasse em grande escala."
      ]
    },
    {
      "cell_type": "code",
      "execution_count": null,
      "id": "66b3b165-2a4b-46cc-93f7-696dffff1e10",
      "metadata": {
        "height": 166,
        "id": "66b3b165-2a4b-46cc-93f7-696dffff1e10"
      },
      "outputs": [],
      "source": [
        "import pandas as pd\n",
        "\n",
        "costs = 0.150 * (crew.usage_metrics.prompt_tokens + crew.usage_metrics.completion_tokens) / 1_000_000\n",
        "print(f\"Total costs: ${costs:.4f}\")\n",
        "\n",
        "# Converter instância de Métricas de Uso em um DataFrame\n",
        "df_usage_metrics = pd.DataFrame([crew.usage_metrics.dict()])\n",
        "df_usage_metrics"
      ]
    },
    {
      "cell_type": "markdown",
      "id": "4982e83a-9e54-4510-9f06-751b34848287",
      "metadata": {
        "id": "4982e83a-9e54-4510-9f06-751b34848287"
      },
      "source": [
        "## Resultado"
      ]
    },
    {
      "cell_type": "code",
      "execution_count": null,
      "id": "6396b0f6-e3ae-4a89-a3e9-ca53aa042c40",
      "metadata": {
        "height": 30,
        "id": "6396b0f6-e3ae-4a89-a3e9-ca53aa042c40"
      },
      "outputs": [],
      "source": [
        "result.pydantic.dict()"
      ]
    },
    {
      "cell_type": "markdown",
      "id": "18ffcc83-350e-4f99-b03b-458690cc0ed2",
      "metadata": {
        "id": "18ffcc83-350e-4f99-b03b-458690cc0ed2"
      },
      "source": [
        "## Inspecionar mais detalhadamente"
      ]
    },
    {
      "cell_type": "code",
      "execution_count": null,
      "id": "da1bbf90-4bfc-4529-84dd-d0bd00198353",
      "metadata": {
        "height": 149,
        "id": "da1bbf90-4bfc-4529-84dd-d0bd00198353"
      },
      "outputs": [],
      "source": [
        "tasks = result.pydantic.dict()['tasks']\n",
        "df_tasks = pd.DataFrame(tasks)\n",
        "\n",
        "# Exibir o DataFrame como uma tabela HTML\n",
        "df_tasks.style.set_table_attributes('border=\"1\"').set_caption(\"Task Details\").set_table_styles(\n",
        "    [{'selector': 'th, td', 'props': [('font-size', '120%')]}]\n",
        ")"
      ]
    },
    {
      "cell_type": "markdown",
      "id": "1210cae8-e028-4f7e-90ed-950ef86d41e5",
      "metadata": {
        "id": "1210cae8-e028-4f7e-90ed-950ef86d41e5"
      },
      "source": [
        "### Inspecionando marcos"
      ]
    },
    {
      "cell_type": "code",
      "execution_count": null,
      "id": "91c2f18c-2d5b-41a9-837b-265e7aa245d0",
      "metadata": {
        "height": 149,
        "id": "91c2f18c-2d5b-41a9-837b-265e7aa245d0"
      },
      "outputs": [],
      "source": [
        "milestones = result.pydantic.dict()['milestones']\n",
        "df_milestones = pd.DataFrame(milestones)\n",
        "\n",
        "# Exibir o DataFrame como uma tabela HTML\n",
        "df_milestones.style.set_table_attributes('border=\"1\"').set_caption(\"Task Details\").set_table_styles(\n",
        "    [{'selector': 'th, td', 'props': [('font-size', '120%')]}]\n",
        ")"
      ]
    },
    {
      "cell_type": "code",
      "execution_count": null,
      "id": "a593fd80-36ef-48a1-a7c7-e45c37815f67",
      "metadata": {
        "height": 30,
        "id": "a593fd80-36ef-48a1-a7c7-e45c37815f67"
      },
      "outputs": [],
      "source": []
    },
    {
      "cell_type": "code",
      "execution_count": null,
      "id": "2e2c2526-de6d-4006-bd25-8c51e1f3d5f7",
      "metadata": {
        "height": 30,
        "id": "2e2c2526-de6d-4006-bd25-8c51e1f3d5f7"
      },
      "outputs": [],
      "source": []
    },
    {
      "cell_type": "code",
      "execution_count": null,
      "id": "1ac3e1e0-e14f-446e-a912-18794337925c",
      "metadata": {
        "height": 30,
        "id": "1ac3e1e0-e14f-446e-a912-18794337925c"
      },
      "outputs": [],
      "source": []
    },
    {
      "cell_type": "code",
      "execution_count": null,
      "id": "c34b5062-29e2-4fbb-b771-02f5f547e47c",
      "metadata": {
        "height": 30,
        "id": "c34b5062-29e2-4fbb-b771-02f5f547e47c"
      },
      "outputs": [],
      "source": []
    },
    {
      "cell_type": "code",
      "execution_count": null,
      "id": "70303180-389e-4e90-8444-aba384ec8751",
      "metadata": {
        "height": 30,
        "id": "70303180-389e-4e90-8444-aba384ec8751"
      },
      "outputs": [],
      "source": []
    },
    {
      "cell_type": "code",
      "execution_count": null,
      "id": "109926d3-50e5-43e7-87f8-a1d38e45d79d",
      "metadata": {
        "height": 30,
        "id": "109926d3-50e5-43e7-87f8-a1d38e45d79d"
      },
      "outputs": [],
      "source": []
    }
  ],
  "metadata": {
    "kernelspec": {
      "display_name": "Python 3 (ipykernel)",
      "language": "python",
      "name": "python3"
    },
    "language_info": {
      "codemirror_mode": {
        "name": "ipython",
        "version": 3
      },
      "file_extension": ".py",
      "mimetype": "text/x-python",
      "name": "python",
      "nbconvert_exporter": "python",
      "pygments_lexer": "ipython3",
      "version": "3.11.9"
    },
    "colab": {
      "provenance": []
    }
  },
  "nbformat": 4,
  "nbformat_minor": 5
}